{
 "cells": [
  {
   "cell_type": "code",
   "execution_count": null,
   "outputs": [],
   "source": [
    "from sklearn import tree\n",
    "import json"
   ],
   "metadata": {
    "collapsed": false
   },
   "id": "ac301188e4ba16c7"
  },
  {
   "cell_type": "code",
   "execution_count": null,
   "outputs": [],
   "source": [
    "with open('./dataset.js', 'r') as file:\n",
    "    js_data = json.loads(file.read())"
   ],
   "metadata": {
    "collapsed": false
   },
   "id": "53052b7c5c67116e"
  },
  {
   "cell_type": "code",
   "execution_count": null,
   "outputs": [],
   "source": [
    "# design output\n",
    "t = 0\n",
    "label = []\n",
    "\n",
    "for i in js_data:\n",
    "    if i[\"number_of_raise\"] <= 2 and i[\"shopping_frequency\"] <= 3 \\\n",
    "            and i[\"income\"] >= 40000 and i[\"arrears\"] <= 1:\n",
    "        if i[\"average_cost\"] <= 20000:\n",
    "            label.append(1)\n",
    "        elif i[\"shopping_frequency\"] <= 3:\n",
    "            label.append(1)\n",
    "        elif i[\"installment\"] <= 12:\n",
    "            label.append(1)\n",
    "        elif i[\"passive_income\"] >= i[\"income\"] / 3:\n",
    "            label.append(1)\n",
    "        elif i[\"deposit\"] >= 100000:\n",
    "            label.append(1)\n",
    "        else:\n",
    "            label.append(0)\n",
    "    else:\n",
    "        label.append(0)\n",
    "    \n",
    "    if label[-1] == 0:\n",
    "        t += 1\n",
    "\n",
    "print(f\"0/1: {t/(10000-t)}:1\")\n"
   ],
   "metadata": {
    "collapsed": false
   },
   "id": "ea706a6a237ef416"
  },
  {
   "cell_type": "code",
   "execution_count": null,
   "outputs": [],
   "source": [
    "dataset = []\n",
    "\n",
    "for i in js_data:\n",
    "    dataset.append(list(i.values()))\n"
   ],
   "metadata": {
    "collapsed": false
   },
   "id": "initial_id"
  },
  {
   "cell_type": "code",
   "execution_count": null,
   "outputs": [],
   "source": [
    "clf = tree.DecisionTreeClassifier()\n",
    "clf = clf.fit(dataset, label)"
   ],
   "metadata": {
    "collapsed": false
   },
   "id": "8792215e60a8bee0"
  },
  {
   "cell_type": "code",
   "execution_count": null,
   "outputs": [],
   "source": [
    "with open('./dataset_test_noise.js') as file:\n",
    "    js_test_data = json.loads(file.read())\n"
   ],
   "metadata": {
    "collapsed": false
   },
   "id": "30361bfb8ce8a9f7"
  },
  {
   "cell_type": "code",
   "execution_count": null,
   "outputs": [],
   "source": [
    "test_label = []\n",
    "s = 0\n",
    "for i in js_test_data:\n",
    "    if i[\"number_of_raise\"] <= 2 and i[\"shopping_frequency\"] <= 3 \\\n",
    "            and i[\"income\"] >= 40000 and i[\"arrears\"] <= 1:\n",
    "        if i[\"average_cost\"] <= 20000:\n",
    "            test_label.append(1)\n",
    "        elif i[\"shopping_frequency\"] <= 3:\n",
    "            test_label.append(1)\n",
    "        elif i[\"installment\"] <= 12:\n",
    "            test_label.append(1)\n",
    "        elif i[\"passive_income\"] >= i[\"income\"] / 3:\n",
    "            test_label.append(1)\n",
    "        elif i[\"deposit\"] >= 100000:\n",
    "            test_label.append(1)\n",
    "        else:\n",
    "            test_label.append(0)\n",
    "    else:\n",
    "        test_label.append(0)\n",
    "    \n",
    "    if test_label[-1] == 0:\n",
    "        s += 1\n",
    "\n",
    "print(f\"noise 0/1: {s/(10000-s)}:1\")"
   ],
   "metadata": {
    "collapsed": false
   },
   "id": "abc69bb9d8594306"
  },
  {
   "cell_type": "code",
   "execution_count": null,
   "outputs": [],
   "source": [
    "test_data = []\n",
    "\n",
    "for i in js_test_data:\n",
    "    test_data.append(list(i.values()))"
   ],
   "metadata": {
    "collapsed": false
   },
   "id": "25d233cf29658325"
  },
  {
   "cell_type": "code",
   "execution_count": null,
   "outputs": [],
   "source": [
    "count = 0\n",
    "prediction = clf.predict(test_data)\n",
    "\n",
    "for i, val in enumerate(prediction.tolist()):\n",
    "    if val == test_label[i]:\n",
    "        count += 1\n",
    "\n",
    "print(f\"precision: {(count / 10000) * 100}%\")"
   ],
   "metadata": {
    "collapsed": false
   },
   "id": "58f5c682a00e77fa"
  },
  {
   "cell_type": "code",
   "execution_count": null,
   "outputs": [],
   "source": [
    "tree.plot_tree(clf)"
   ],
   "metadata": {
    "collapsed": false
   },
   "id": "3bc0ba757301ebfc"
  },
  {
   "cell_type": "code",
   "execution_count": null,
   "outputs": [],
   "source": [],
   "metadata": {
    "collapsed": false
   },
   "id": "c10bfaaeee8db622"
  }
 ],
 "metadata": {
  "kernelspec": {
   "display_name": "Python 3",
   "language": "python",
   "name": "python3"
  },
  "language_info": {
   "codemirror_mode": {
    "name": "ipython",
    "version": 2
   },
   "file_extension": ".py",
   "mimetype": "text/x-python",
   "name": "python",
   "nbconvert_exporter": "python",
   "pygments_lexer": "ipython2",
   "version": "2.7.6"
  }
 },
 "nbformat": 4,
 "nbformat_minor": 5
}
