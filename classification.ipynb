{
 "cells": [
  {
   "cell_type": "code",
   "execution_count": null,
   "outputs": [],
   "source": [
    "from sklearn import tree\n",
    "from sklearn.neighbors import KNeighborsClassifier\n",
    "from sklearn.linear_model import LogisticRegression\n",
    "from sklearn.naive_bayes import GaussianNB\n",
    "import json"
   ],
   "metadata": {
    "collapsed": false
   },
   "id": "ac301188e4ba16c7"
  },
  {
   "cell_type": "code",
   "execution_count": null,
   "outputs": [],
   "source": [
    "with open('./dataset.js', 'r') as file:\n",
    "    js_data = json.loads(file.read())"
   ],
   "metadata": {
    "collapsed": false
   },
   "id": "53052b7c5c67116e"
  },
  {
   "cell_type": "code",
   "execution_count": null,
   "outputs": [],
   "source": [
    "# design output\n",
    "t = 0\n",
    "train_label = []\n",
    "\n",
    "for i in js_data:\n",
    "    if i[\"number_of_raise\"] <= 2 and i[\"shopping_frequency\"] <= 3 \\\n",
    "            and i[\"income\"] >= 35000 and i[\"arrears\"] <= 1:\n",
    "        if i[\"average_cost\"] <= 15000:\n",
    "            train_label.append(1)\n",
    "        elif i[\"installment\"] <= 15:\n",
    "            train_label.append(1)\n",
    "        elif i[\"passive_income\"] >= i[\"income\"] / 5:\n",
    "            train_label.append(1)\n",
    "        elif i[\"deposit\"] >= 60000:\n",
    "            train_label.append(1)\n",
    "        else:\n",
    "            train_label.append(0)\n",
    "    else:\n",
    "        train_label.append(0)\n",
    "    \n",
    "    if train_label[-1] == 0:\n",
    "        t += 1\n",
    "\n",
    "print(f\"0/1: {t}\")\n"
   ],
   "metadata": {
    "collapsed": false
   },
   "id": "ea706a6a237ef416"
  },
  {
   "cell_type": "code",
   "execution_count": null,
   "outputs": [],
   "source": [
    "train_data = []\n",
    "\n",
    "for i in js_data:\n",
    "    train_data.append(list(i.values()))\n"
   ],
   "metadata": {
    "collapsed": false
   },
   "id": "initial_id"
  },
  {
   "cell_type": "code",
   "execution_count": null,
   "outputs": [],
   "source": [
    "with open('./dataset_test_noise.js') as file:\n",
    "    js_test_data = json.loads(file.read())\n"
   ],
   "metadata": {
    "collapsed": false
   },
   "id": "30361bfb8ce8a9f7"
  },
  {
   "cell_type": "code",
   "execution_count": null,
   "outputs": [],
   "source": [
    "test_label = []\n",
    "s = 0\n",
    "for i in js_test_data:\n",
    "    if i[\"number_of_raise\"] <= 2 and i[\"shopping_frequency\"] <= 3 \\\n",
    "            and i[\"income\"] >= 35000 and i[\"arrears\"] <= 1:\n",
    "        if i[\"average_cost\"] <= 15000:\n",
    "            test_label.append(1)\n",
    "        elif i[\"installment\"] <= 15:\n",
    "            test_label.append(1)\n",
    "        elif i[\"passive_income\"] >= i[\"income\"] / 5:\n",
    "            test_label.append(1)\n",
    "        elif i[\"deposit\"] >= 60000:\n",
    "            test_label.append(1)\n",
    "        else:\n",
    "            test_label.append(0)\n",
    "    else:\n",
    "        test_label.append(0)\n",
    "    \n",
    "    if test_label[-1] == 0:\n",
    "        s += 1\n",
    "\n",
    "print(f\"noise 0/1: {s}\")"
   ],
   "metadata": {
    "collapsed": false
   },
   "id": "abc69bb9d8594306"
  },
  {
   "cell_type": "code",
   "execution_count": null,
   "outputs": [],
   "source": [
    "test_data = []\n",
    "\n",
    "for i in js_test_data:\n",
    "    test_data.append(list(i.values()))"
   ],
   "metadata": {
    "collapsed": false
   },
   "id": "25d233cf29658325"
  },
  {
   "cell_type": "code",
   "execution_count": null,
   "outputs": [],
   "source": [
    "clf = tree.DecisionTreeClassifier()\n",
    "clf = clf.fit(train_data, train_label)"
   ],
   "metadata": {
    "collapsed": false
   },
   "id": "8792215e60a8bee0"
  },
  {
   "cell_type": "code",
   "execution_count": null,
   "outputs": [],
   "source": [
    "clf.score(test_data, test_label)"
   ],
   "metadata": {
    "collapsed": false
   },
   "id": "58f5c682a00e77fa"
  },
  {
   "cell_type": "code",
   "execution_count": null,
   "outputs": [],
   "source": [
    "tree.plot_tree(clf)"
   ],
   "metadata": {
    "collapsed": false
   },
   "id": "3bc0ba757301ebfc"
  },
  {
   "cell_type": "code",
   "execution_count": null,
   "outputs": [],
   "source": [
    "neigh = KNeighborsClassifier(n_neighbors=5)\n",
    "neigh.fit(train_data, train_label)\n",
    "neigh.score(train_data, train_label)"
   ],
   "metadata": {
    "collapsed": false
   },
   "id": "c10bfaaeee8db622"
  },
  {
   "cell_type": "code",
   "execution_count": null,
   "outputs": [],
   "source": [
    "# Logistic Regression\n",
    "logistic_regression = LogisticRegression(random_state=0).fit(train_data, train_label)\n",
    "logistic_regression.score(train_data, train_label)"
   ],
   "metadata": {
    "collapsed": false
   },
   "id": "4f8e08476f38ada9"
  },
  {
   "cell_type": "code",
   "execution_count": null,
   "outputs": [],
   "source": [
    "gaussian_naive_bayes = GaussianNB()\n",
    "gaussian_naive_bayes.fit(train_data, train_label)\n",
    "gaussian_naive_bayes.score(test_data, test_label)"
   ],
   "metadata": {
    "collapsed": false
   },
   "id": "ef97e3ece6bd4d8a"
  },
  {
   "cell_type": "code",
   "execution_count": null,
   "outputs": [],
   "source": [],
   "metadata": {
    "collapsed": false
   },
   "id": "44218d1023e2ba4b"
  }
 ],
 "metadata": {
  "kernelspec": {
   "display_name": "Python 3",
   "language": "python",
   "name": "python3"
  },
  "language_info": {
   "codemirror_mode": {
    "name": "ipython",
    "version": 2
   },
   "file_extension": ".py",
   "mimetype": "text/x-python",
   "name": "python",
   "nbconvert_exporter": "python",
   "pygments_lexer": "ipython2",
   "version": "2.7.6"
  }
 },
 "nbformat": 4,
 "nbformat_minor": 5
}
