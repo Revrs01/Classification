{
 "cells": [
  {
   "cell_type": "code",
   "execution_count": 73,
   "id": "initial_id",
   "metadata": {
    "collapsed": true,
    "ExecuteTime": {
     "end_time": "2023-11-09T08:27:22.422738Z",
     "start_time": "2023-11-09T08:27:22.337919Z"
    }
   },
   "outputs": [],
   "source": [
    "from sklearn.datasets import make_classification\n",
    "import matplotlib.pyplot as plt\n",
    "import numpy as np\n",
    "import random\n",
    "import json"
   ]
  },
  {
   "cell_type": "code",
   "execution_count": 74,
   "outputs": [],
   "source": [
    "# Define the dataset size\n",
    "dataset_size = 10000"
   ],
   "metadata": {
    "collapsed": false,
    "ExecuteTime": {
     "end_time": "2023-11-09T08:27:22.423177Z",
     "start_time": "2023-11-09T08:27:22.344709Z"
    }
   },
   "id": "b3abe62372602031"
  },
  {
   "cell_type": "code",
   "execution_count": 75,
   "outputs": [],
   "source": [
    "# generate Gender\n",
    "_, gender = make_classification(\n",
    "    n_samples=dataset_size,\n",
    "    n_classes=2,\n",
    "    weights=[0.5, 0.5],\n",
    "    random_state=39,\n",
    ")\n",
    "# gender = [\"man\" if x else \"woman\" for x in gender]\n",
    "gender = gender.tolist()\n",
    "random.shuffle(gender)"
   ],
   "metadata": {
    "collapsed": false,
    "ExecuteTime": {
     "end_time": "2023-11-09T08:27:22.423904Z",
     "start_time": "2023-11-09T08:27:22.355195Z"
    }
   },
   "id": "24e553edd6d53de7"
  },
  {
   "cell_type": "code",
   "execution_count": 76,
   "outputs": [],
   "source": [
    "# generate occupation\n",
    "_, occupation = make_classification(\n",
    "    n_samples=dataset_size,\n",
    "    n_classes=2,\n",
    "    weights=[0.25, 0.75],\n",
    "    random_state=93\n",
    ")\n",
    "\n",
    "# occupation = [\"student\" if not x else \"worker\" for x in occupation]\n",
    "occupation = occupation.tolist()\n",
    "random.shuffle(occupation)"
   ],
   "metadata": {
    "collapsed": false,
    "ExecuteTime": {
     "end_time": "2023-11-09T08:27:22.424130Z",
     "start_time": "2023-11-09T08:27:22.380242Z"
    }
   },
   "id": "6345fcf1969782d6"
  },
  {
   "cell_type": "code",
   "execution_count": 77,
   "outputs": [],
   "source": [
    "# generate educational qualification by giving corresponding weights\n",
    "educational_qualification = []\n",
    "\n",
    "for i in range(dataset_size):\n",
    "    educational_qualification.append(random.choices([1, 2, 3, 4, 5], weights=[0.1, 0.15, 0.22, 0.43, 0.1])[0])\n",
    "random.shuffle(educational_qualification)"
   ],
   "metadata": {
    "collapsed": false,
    "ExecuteTime": {
     "end_time": "2023-11-09T08:27:22.449421Z",
     "start_time": "2023-11-09T08:27:22.441857Z"
    }
   },
   "id": "58fee11a9c04020f"
  },
  {
   "cell_type": "code",
   "execution_count": 78,
   "outputs": [],
   "source": [
    "# generate income using normal distribution\n",
    "standard_deviation = 30000  # assumed value\n",
    "mean_income = 50000\n",
    "\n",
    "income = np.random.normal(mean_income, standard_deviation, dataset_size)\n",
    "income = income.astype(int)\n",
    "income = income.clip(28000, 200000)\n",
    "income = income.tolist()\n",
    "random.shuffle(income)"
   ],
   "metadata": {
    "collapsed": false,
    "ExecuteTime": {
     "end_time": "2023-11-09T08:27:22.468920Z",
     "start_time": "2023-11-09T08:27:22.450217Z"
    }
   },
   "id": "6a2bcb29205d0ca4"
  },
  {
   "cell_type": "code",
   "execution_count": 79,
   "outputs": [],
   "source": [
    "# generate number of installment\n",
    "installment = []\n",
    "number_of_installment = [0, 3, 6, 9, 12, 18, 24, 36, 48]\n",
    "installment_weight = [0.3, 0.2, 0.1, 0.1, 0.05, 0.05, 0.1, 0.05, 0.05]\n",
    "\n",
    "for i in range(dataset_size):\n",
    "    installment.append(random.choices(number_of_installment, weights=installment_weight)[0])\n",
    "\n",
    "random.shuffle(installment)"
   ],
   "metadata": {
    "collapsed": false,
    "ExecuteTime": {
     "end_time": "2023-11-09T08:27:22.513953Z",
     "start_time": "2023-11-09T08:27:22.469835Z"
    }
   },
   "id": "70b5f451f15de14"
  },
  {
   "cell_type": "code",
   "execution_count": 80,
   "outputs": [],
   "source": [
    "# generate number of arrears\n",
    "arrears = []\n",
    "\n",
    "for i in range(dataset_size):\n",
    "    arrears.append(random.choices([0, 1, 2], weights=[0.85, 0.13, 0.02])[0])\n",
    "\n",
    "random.shuffle(arrears)"
   ],
   "metadata": {
    "collapsed": false,
    "ExecuteTime": {
     "end_time": "2023-11-09T08:27:22.546777Z",
     "start_time": "2023-11-09T08:27:22.512230Z"
    }
   },
   "id": "b8f14724c632b195"
  },
  {
   "cell_type": "code",
   "execution_count": 81,
   "outputs": [],
   "source": [
    "# generate deposit\n",
    "\n",
    "deposit = np.random.normal(70000, 70000, dataset_size)\n",
    "deposit = np.clip(deposit, 30000, 300000)\n",
    "deposit = deposit.astype(int)\n",
    "deposit = deposit.tolist()\n",
    "random.shuffle(deposit)"
   ],
   "metadata": {
    "collapsed": false,
    "ExecuteTime": {
     "end_time": "2023-11-09T08:27:22.572407Z",
     "start_time": "2023-11-09T08:27:22.560566Z"
    }
   },
   "id": "98f39a5fe932eea7"
  },
  {
   "cell_type": "code",
   "execution_count": 82,
   "outputs": [],
   "source": [
    "# generate shopping frequency\n",
    "\n",
    "shopping_frequency = np.random.normal(5, 4, dataset_size)\n",
    "shopping_frequency = np.clip(shopping_frequency, 0, 10)\n",
    "shopping_frequency = shopping_frequency.astype(int)\n",
    "shopping_frequency = shopping_frequency.tolist()\n",
    "random.shuffle(shopping_frequency)"
   ],
   "metadata": {
    "collapsed": false,
    "ExecuteTime": {
     "end_time": "2023-11-09T08:27:22.582452Z",
     "start_time": "2023-11-09T08:27:22.574446Z"
    }
   },
   "id": "39f2283db6690f2c"
  },
  {
   "cell_type": "code",
   "execution_count": 83,
   "outputs": [],
   "source": [
    "# generate average cost per shopping\n",
    "\n",
    "average_cost = np.random.normal(25000, 30000, dataset_size)\n",
    "average_cost = np.clip(average_cost, 3000, 100000)\n",
    "average_cost = average_cost.astype(int)\n",
    "\n",
    "average_cost = average_cost.tolist()\n",
    "random.shuffle(average_cost)"
   ],
   "metadata": {
    "collapsed": false,
    "ExecuteTime": {
     "end_time": "2023-11-09T08:27:22.595360Z",
     "start_time": "2023-11-09T08:27:22.591251Z"
    }
   },
   "id": "ba26020584281395"
  },
  {
   "cell_type": "code",
   "execution_count": 84,
   "outputs": [],
   "source": [
    "# generate age\n",
    "\n",
    "ages = []\n",
    "\n",
    "for i in range(round(dataset_size * 0.25)):\n",
    "    ages.append(random.choice([j for j in range(20, 29)]))\n",
    "\n",
    "worker_age = np.random.normal(35, 5, round(dataset_size * 0.75))\n",
    "\n",
    "ages.extend(worker_age.tolist())\n",
    "ages = np.array(ages)\n",
    "ages = np.clip(ages, 20, 50)\n",
    "ages = ages.astype(int)\n",
    "ages = ages.tolist()\n",
    "random.shuffle(ages)"
   ],
   "metadata": {
    "collapsed": false,
    "ExecuteTime": {
     "end_time": "2023-11-09T08:27:22.617719Z",
     "start_time": "2023-11-09T08:27:22.605214Z"
    }
   },
   "id": "5984136bb1c55da4"
  },
  {
   "cell_type": "code",
   "execution_count": 85,
   "outputs": [],
   "source": [
    "# generate number of browsing\n",
    "\n",
    "number_of_browsing = []\n",
    "for i in range(dataset_size):\n",
    "    number_of_browsing.append(\n",
    "        random.choices([j for j in range(1, 11)], weights=[0.1, 0.15, 0.1, 0.05, 0.1, 0.1, 0.1, 0.1, 0.1, 0.1, ])[0])\n",
    "\n",
    "random.shuffle(number_of_browsing)"
   ],
   "metadata": {
    "collapsed": false,
    "ExecuteTime": {
     "end_time": "2023-11-09T08:27:22.664579Z",
     "start_time": "2023-11-09T08:27:22.659906Z"
    }
   },
   "id": "749745d7e26d2fd5"
  },
  {
   "cell_type": "code",
   "execution_count": 86,
   "outputs": [],
   "source": [
    "# generate number of people to raise\n",
    "number_of_raise = np.random.normal(1.5, 1.1, dataset_size)\n",
    "number_of_raise = np.clip(number_of_raise, 0, 4)\n",
    "number_of_raise = number_of_raise.astype(int)\n",
    "number_of_raise = number_of_raise.tolist()\n",
    "random.shuffle(number_of_raise)"
   ],
   "metadata": {
    "collapsed": false,
    "ExecuteTime": {
     "end_time": "2023-11-09T08:27:22.692798Z",
     "start_time": "2023-11-09T08:27:22.682342Z"
    }
   },
   "id": "5c16cc7eb876c58a"
  },
  {
   "cell_type": "code",
   "execution_count": 87,
   "outputs": [],
   "source": [
    "# generate passive income\n",
    "\n",
    "# Set the parameters for the exponential distribution\n",
    "scale_parameter = 8000  # Adjust this parameter to control the skewness\n",
    "\n",
    "# Generate 10,000 random integers\n",
    "passive_income = np.random.exponential(scale=scale_parameter, size=dataset_size).astype(int)\n",
    "\n",
    "# Ensure that the generated integers are within the specified range (0 to 40,000)\n",
    "passive_income = np.clip(passive_income, 0, 40000)\n",
    "\n",
    "# Shuffle the generated integers to make them more random\n",
    "np.random.shuffle(passive_income)\n",
    "passive_income = passive_income.tolist()\n",
    "random.shuffle(passive_income)"
   ],
   "metadata": {
    "collapsed": false,
    "ExecuteTime": {
     "end_time": "2023-11-09T08:27:22.703888Z",
     "start_time": "2023-11-09T08:27:22.698692Z"
    }
   },
   "id": "a5f76e2ec5cd3c3f"
  },
  {
   "cell_type": "code",
   "execution_count": 88,
   "outputs": [],
   "source": [
    "# pack to json\n",
    "\n",
    "dataset = []\n",
    "\n",
    "for index, items in enumerate(\n",
    "        zip(gender, occupation, educational_qualification, income, installment, arrears, deposit, shopping_frequency,\n",
    "            average_cost, ages, number_of_browsing, number_of_raise, passive_income)):\n",
    "    dataset.append({\n",
    "        \"index\": index,\n",
    "        \"gender\": items[0],\n",
    "        \"occupation\": items[1],\n",
    "        \"educational_qualification\": items[2],\n",
    "        \"income\": items[3],\n",
    "        \"installment\": items[4],\n",
    "        \"arrears\": items[5],\n",
    "        \"deposit\": items[6],\n",
    "        \"shopping_frequency\": items[7],\n",
    "        \"average_cost\": items[8],\n",
    "        \"ages\": items[9],\n",
    "        \"number_of_browsing\": items[10],\n",
    "        \"number_of_raise\": items[11],\n",
    "        \"passive_income\": items[12],\n",
    "    })\n"
   ],
   "metadata": {
    "collapsed": false,
    "ExecuteTime": {
     "end_time": "2023-11-09T08:27:22.731136Z",
     "start_time": "2023-11-09T08:27:22.727283Z"
    }
   },
   "id": "3a5cc0033f643697"
  },
  {
   "cell_type": "code",
   "execution_count": 89,
   "outputs": [],
   "source": [
    "# generate noise data\n",
    "\n",
    "for i in dataset:\n",
    "    if i[\"occupation\"] == 0:\n",
    "        i[\"shopping_frequency\"] = int(i[\"shopping_frequency\"] * 1.3)\n",
    "        i[\"income\"] = random.choice([x for x in range(8000, 15001, 1000)])\n",
    "        i[\"number_of_raise\"] = random.choices([0, 1, 2], weights=[0.9, 0.07, 0.03])[0]\n",
    "        if i[\"installment\"] != 0:\n",
    "            i[\"installment\"] = random.choice([6, 9, 12, 18, 24, 36, 48])\n",
    "\n",
    "    if i[\"gender\"] == 0:\n",
    "        i[\"number_of_browsing\"] = int(i[\"number_of_browsing\"] * 1.8)\n",
    "\n",
    "    if i[\"average_cost\"] >= 40000:\n",
    "        i[\"installment\"] = random.choice([6, 9, 12, 18, 24, 36, 48])\n",
    "\n",
    "    if i[\"educational_qualification\"] >= 4:\n",
    "        i[\"income\"] = int(i[\"income\"] * 1.15)\n",
    "\n",
    "    if i[\"number_of_browsing\"] >= 5:\n",
    "        i[\"shopping_frequency\"] = int(i[\"shopping_frequency\"] * 1.2)\n",
    "\n",
    "\n"
   ],
   "metadata": {
    "collapsed": false,
    "ExecuteTime": {
     "end_time": "2023-11-09T08:27:22.769106Z",
     "start_time": "2023-11-09T08:27:22.732039Z"
    }
   },
   "id": "223d70e9145e7954"
  },
  {
   "cell_type": "code",
   "execution_count": 90,
   "outputs": [],
   "source": [
    "# write dataset to js file\n",
    "\n",
    "with open('./dataset_test_noise.js', 'w') as js_file:\n",
    "    json.dump(dataset, js_file, indent=13)"
   ],
   "metadata": {
    "collapsed": false,
    "ExecuteTime": {
     "end_time": "2023-11-09T08:27:23.005448Z",
     "start_time": "2023-11-09T08:27:22.769890Z"
    }
   },
   "id": "809ef8d937ecf8c0"
  },
  {
   "cell_type": "code",
   "execution_count": 90,
   "outputs": [],
   "source": [],
   "metadata": {
    "collapsed": false,
    "ExecuteTime": {
     "end_time": "2023-11-09T08:27:23.014026Z",
     "start_time": "2023-11-09T08:27:23.006497Z"
    }
   },
   "id": "16939c81e634227d"
  }
 ],
 "metadata": {
  "kernelspec": {
   "display_name": "Python 3",
   "language": "python",
   "name": "python3"
  },
  "language_info": {
   "codemirror_mode": {
    "name": "ipython",
    "version": 2
   },
   "file_extension": ".py",
   "mimetype": "text/x-python",
   "name": "python",
   "nbconvert_exporter": "python",
   "pygments_lexer": "ipython2",
   "version": "2.7.6"
  }
 },
 "nbformat": 4,
 "nbformat_minor": 5
}
