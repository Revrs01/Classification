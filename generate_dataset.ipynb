{
 "cells": [
  {
   "cell_type": "code",
   "execution_count": null,
   "outputs": [],
   "source": [
    "from sklearn.datasets import make_classification\n",
    "import matplotlib.pyplot as plt\n",
    "import numpy as np\n",
    "import random\n",
    "import json\n",
    "import pandas as pd"
   ],
   "metadata": {
    "collapsed": false
   },
   "id": "7f785680a7c1b43b"
  },
  {
   "cell_type": "code",
   "execution_count": null,
   "id": "b3abe62372602031",
   "metadata": {
    "collapsed": false
   },
   "outputs": [],
   "source": [
    "# Define the dataset size\n",
    "dataset_size = 30000"
   ]
  },
  {
   "cell_type": "code",
   "execution_count": null,
   "id": "24e553edd6d53de7",
   "metadata": {
    "collapsed": false
   },
   "outputs": [],
   "source": [
    "# generate Gender\n",
    "_, gender = make_classification(\n",
    "    n_samples=dataset_size,\n",
    "    n_classes=2,\n",
    "    weights=[0.5, 0.5],\n",
    "    random_state=39,\n",
    ")\n",
    "# gender = [\"man\" if x else \"woman\" for x in gender]\n",
    "gender = gender.tolist()\n",
    "random.shuffle(gender)"
   ]
  },
  {
   "cell_type": "code",
   "execution_count": null,
   "id": "6345fcf1969782d6",
   "metadata": {
    "collapsed": false
   },
   "outputs": [],
   "source": [
    "# generate occupation\n",
    "_, occupation = make_classification(\n",
    "    n_samples=dataset_size,\n",
    "    n_classes=2,\n",
    "    weights=[0.25, 0.75],\n",
    "    random_state=93\n",
    ")\n",
    "\n",
    "# occupation = [\"student\" if not x else \"worker\" for x in occupation]\n",
    "occupation = occupation.tolist()\n",
    "random.shuffle(occupation)"
   ]
  },
  {
   "cell_type": "code",
   "execution_count": null,
   "id": "58fee11a9c04020f",
   "metadata": {
    "collapsed": false
   },
   "outputs": [],
   "source": [
    "# generate educational qualification by giving corresponding weights\n",
    "educational_qualification = []\n",
    "\n",
    "for i in range(dataset_size):\n",
    "    educational_qualification.append(random.choices([1, 2, 3, 4, 5], weights=[0.1, 0.1, 0.2, 0.5, 0.1])[0])\n",
    "random.shuffle(educational_qualification)"
   ]
  },
  {
   "cell_type": "code",
   "execution_count": null,
   "id": "6a2bcb29205d0ca4",
   "metadata": {
    "collapsed": false
   },
   "outputs": [],
   "source": [
    "# generate income using normal distribution\n",
    "standard_deviation = 50000  # assumed value\n",
    "mean_income = 50000\n",
    "\n",
    "income = np.random.normal(mean_income, standard_deviation, dataset_size)\n",
    "income = income.astype(int)\n",
    "income = income.clip(28000, 200000)\n",
    "income = income.tolist()\n",
    "random.shuffle(income)"
   ]
  },
  {
   "cell_type": "code",
   "execution_count": null,
   "id": "70b5f451f15de14",
   "metadata": {
    "collapsed": false
   },
   "outputs": [],
   "source": [
    "# generate number of installment\n",
    "installment = []\n",
    "number_of_installment = [0, 3, 6, 9, 12, 18, 24, 36, 48]\n",
    "installment_weight = [0.3, 0.2, 0.1, 0.1, 0.05, 0.05, 0.1, 0.05, 0.05]\n",
    "\n",
    "for i in range(dataset_size):\n",
    "    installment.append(random.choices(number_of_installment, weights=installment_weight)[0])\n",
    "\n",
    "random.shuffle(installment)"
   ]
  },
  {
   "cell_type": "code",
   "execution_count": null,
   "id": "b8f14724c632b195",
   "metadata": {
    "collapsed": false
   },
   "outputs": [],
   "source": [
    "# generate number of arrears\n",
    "arrears = []\n",
    "\n",
    "for i in range(dataset_size):\n",
    "    arrears.append(random.choices([0, 1, 2], weights=[0.85, 0.13, 0.02])[0])\n",
    "\n",
    "random.shuffle(arrears)"
   ]
  },
  {
   "cell_type": "code",
   "execution_count": null,
   "id": "98f39a5fe932eea7",
   "metadata": {
    "collapsed": false
   },
   "outputs": [],
   "source": [
    "# generate deposit\n",
    "\n",
    "deposit = np.random.normal(70000, 70000, dataset_size)\n",
    "deposit = np.clip(deposit, 30000, 300000)\n",
    "deposit = deposit.astype(int)\n",
    "deposit = deposit.tolist()\n",
    "random.shuffle(deposit)"
   ]
  },
  {
   "cell_type": "code",
   "execution_count": null,
   "id": "39f2283db6690f2c",
   "metadata": {
    "collapsed": false
   },
   "outputs": [],
   "source": [
    "# generate shopping frequency\n",
    "\n",
    "shopping_frequency = np.random.normal(5, 4, dataset_size)\n",
    "shopping_frequency = np.clip(shopping_frequency, 0, 10)\n",
    "shopping_frequency = shopping_frequency.astype(int)\n",
    "shopping_frequency = shopping_frequency.tolist()\n",
    "random.shuffle(shopping_frequency)"
   ]
  },
  {
   "cell_type": "code",
   "execution_count": null,
   "id": "ba26020584281395",
   "metadata": {
    "collapsed": false
   },
   "outputs": [],
   "source": [
    "# generate average cost per shopping\n",
    "\n",
    "average_cost = np.random.normal(25000, 30000, dataset_size)\n",
    "average_cost = np.clip(average_cost, 3000, 100000)\n",
    "average_cost = average_cost.astype(int)\n",
    "\n",
    "average_cost = average_cost.tolist()\n",
    "random.shuffle(average_cost)"
   ]
  },
  {
   "cell_type": "code",
   "execution_count": null,
   "id": "5984136bb1c55da4",
   "metadata": {
    "collapsed": false
   },
   "outputs": [],
   "source": [
    "# generate age\n",
    "\n",
    "ages = []\n",
    "\n",
    "for i in range(round(dataset_size * 0.25)):\n",
    "    ages.append(random.choice([j for j in range(20, 29)]))\n",
    "\n",
    "worker_age = np.random.normal(35, 5, round(dataset_size * 0.75))\n",
    "\n",
    "ages.extend(worker_age.tolist())\n",
    "ages = np.array(ages)\n",
    "ages = np.clip(ages, 20, 50)\n",
    "ages = ages.astype(int)\n",
    "ages = ages.tolist()\n",
    "random.shuffle(ages)"
   ]
  },
  {
   "cell_type": "code",
   "execution_count": null,
   "id": "749745d7e26d2fd5",
   "metadata": {
    "collapsed": false
   },
   "outputs": [],
   "source": [
    "# generate number of browsing\n",
    "\n",
    "number_of_browsing = []\n",
    "for i in range(dataset_size):\n",
    "    number_of_browsing.append(\n",
    "        random.choices([j for j in range(1, 11)], weights=[0.1, 0.15, 0.1, 0.05, 0.1, 0.1, 0.1, 0.1, 0.1, 0.1, ])[0])\n",
    "\n",
    "random.shuffle(number_of_browsing)"
   ]
  },
  {
   "cell_type": "code",
   "execution_count": null,
   "id": "5c16cc7eb876c58a",
   "metadata": {
    "collapsed": false
   },
   "outputs": [],
   "source": [
    "# generate number of people to raise\n",
    "number_of_raise = np.random.normal(1, 1, dataset_size)\n",
    "number_of_raise = np.clip(number_of_raise, 0, 4)\n",
    "number_of_raise = number_of_raise.astype(int)\n",
    "number_of_raise = number_of_raise.tolist()\n",
    "random.shuffle(number_of_raise)"
   ]
  },
  {
   "cell_type": "code",
   "execution_count": null,
   "id": "a5f76e2ec5cd3c3f",
   "metadata": {
    "collapsed": false
   },
   "outputs": [],
   "source": [
    "# generate passive income\n",
    "\n",
    "# Set the parameters for the exponential distribution\n",
    "scale_parameter = 8000  # Adjust this parameter to control the skewness\n",
    "\n",
    "# Generate 10,000 random integers\n",
    "passive_income = np.random.exponential(scale=scale_parameter, size=dataset_size).astype(int)\n",
    "\n",
    "# Ensure that the generated integers are within the specified range (0 to 40,000)\n",
    "passive_income = np.clip(passive_income, 0, 40000)\n",
    "\n",
    "# Shuffle the generated integers to make them more random\n",
    "np.random.shuffle(passive_income)\n",
    "passive_income = passive_income.tolist()\n",
    "random.shuffle(passive_income)"
   ]
  },
  {
   "cell_type": "code",
   "execution_count": null,
   "id": "3a5cc0033f643697",
   "metadata": {
    "collapsed": false
   },
   "outputs": [],
   "source": [
    "# pack to json\n",
    "\n",
    "dataset = []\n",
    "\n",
    "for index, items in enumerate(\n",
    "        zip(gender, occupation, educational_qualification, income, installment, arrears, deposit, shopping_frequency,\n",
    "            average_cost, ages, number_of_browsing, number_of_raise, passive_income)):\n",
    "    dataset.append({\n",
    "        \"index\": index,\n",
    "        \"gender\": items[0],\n",
    "        \"occupation\": items[1],\n",
    "        \"educational_qualification\": items[2],\n",
    "        \"income\": items[3],\n",
    "        \"installment\": items[4],\n",
    "        \"arrears\": items[5],\n",
    "        \"deposit\": items[6],\n",
    "        \"shopping_frequency\": items[7],\n",
    "        \"average_cost\": items[8],\n",
    "        \"ages\": items[9],\n",
    "        \"number_of_browsing\": items[10],\n",
    "        \"number_of_raise\": items[11],\n",
    "        \"passive_income\": items[12],\n",
    "    })\n"
   ]
  },
  {
   "cell_type": "code",
   "execution_count": null,
   "id": "223d70e9145e7954",
   "metadata": {
    "collapsed": false
   },
   "outputs": [],
   "source": [
    "# # generate noise data\n",
    "# \n",
    "# for i in dataset:\n",
    "#     if i[\"occupation\"] == 0:\n",
    "#         i[\"shopping_frequency\"] = int(i[\"shopping_frequency\"] * 1.3)\n",
    "#         i[\"income\"] = random.choice([x for x in range(8000, 15001, 1000)])\n",
    "#         i[\"number_of_raise\"] = random.choices([0, 1, 2], weights=[0.9, 0.07, 0.03])[0]\n",
    "#         if i[\"installment\"] != 0:\n",
    "#             i[\"installment\"] = random.choice([6, 9, 12, 18, 24, 36, 48])\n",
    "# \n",
    "#     if i[\"gender\"] == 0:\n",
    "#         i[\"number_of_browsing\"] = int(i[\"number_of_browsing\"] * 1.8)\n",
    "# \n",
    "#     if i[\"average_cost\"] >= 40000:\n",
    "#         i[\"installment\"] = random.choice([6, 9, 12, 18, 24, 36, 48])\n",
    "# \n",
    "#     if i[\"educational_qualification\"] >= 4:\n",
    "#         i[\"income\"] = int(i[\"income\"] * 1.15)\n",
    "# \n",
    "#     if i[\"number_of_browsing\"] >= 5:\n",
    "#         i[\"shopping_frequency\"] = int(i[\"shopping_frequency\"] * 1.2)\n",
    "# \n",
    "# \n"
   ]
  },
  {
   "cell_type": "code",
   "execution_count": null,
   "id": "809ef8d937ecf8c0",
   "metadata": {
    "collapsed": false
   },
   "outputs": [],
   "source": [
    "# # write dataset to js file\n",
    "# \n",
    "# with open('./dataset_test.js', 'w') as js_file:\n",
    "#     json.dump(dataset, js_file, indent=13)"
   ]
  },
  {
   "cell_type": "code",
   "execution_count": null,
   "id": "bc7d9c73b546d843",
   "metadata": {
    "collapsed": false
   },
   "outputs": [],
   "source": [
    "def plot_diagram(data, name):\n",
    "    plt.hist(data)\n",
    "    plt.title(name)\n",
    "    plt.savefig(f'./figure/with noise/{name}.png')\n",
    "    plt.clf()"
   ]
  },
  {
   "cell_type": "code",
   "execution_count": null,
   "id": "16939c81e634227d",
   "metadata": {
    "collapsed": false
   },
   "outputs": [],
   "source": [
    "plot_diagram(gender, \"gender\")\n",
    "plot_diagram(occupation, \"occupation\")\n",
    "plot_diagram(educational_qualification, \"education qualification\")\n",
    "plot_diagram(income, \"income\")\n",
    "plot_diagram(installment, \"installment\")\n",
    "plot_diagram(arrears, \"arrears\")\n",
    "plot_diagram(deposit, \"deposit\")\n",
    "plot_diagram(shopping_frequency, \"shopping frequency\")\n",
    "plot_diagram(average_cost, \"average cost\")\n",
    "plot_diagram(ages, \"ages\")\n",
    "plot_diagram(number_of_browsing, \"number browsing per day\")\n",
    "plot_diagram(number_of_raise, \"people to raise\")\n",
    "plot_diagram(passive_income, \"passive income\")"
   ]
  },
  {
   "cell_type": "code",
   "execution_count": null,
   "id": "155d6b65b9a5c430",
   "metadata": {
    "collapsed": false
   },
   "outputs": [],
   "source": [
    "df = pd.DataFrame(dataset)\n",
    "df.to_csv('./dataset_test_noise.csv', index=False)"
   ]
  },
  {
   "cell_type": "code",
   "execution_count": null,
   "id": "167d7e7ecebc2786",
   "metadata": {
    "collapsed": false
   },
   "outputs": [],
   "source": []
  }
 ],
 "metadata": {
  "kernelspec": {
   "display_name": "Python 3 (ipykernel)",
   "language": "python",
   "name": "python3"
  },
  "language_info": {
   "codemirror_mode": {
    "name": "ipython",
    "version": 3
   },
   "file_extension": ".py",
   "mimetype": "text/x-python",
   "name": "python",
   "nbconvert_exporter": "python",
   "pygments_lexer": "ipython3",
   "version": "3.8.10"
  }
 },
 "nbformat": 4,
 "nbformat_minor": 5
}
